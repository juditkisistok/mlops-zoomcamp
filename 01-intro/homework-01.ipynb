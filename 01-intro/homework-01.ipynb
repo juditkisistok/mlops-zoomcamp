{
 "cells": [
  {
   "cell_type": "code",
   "execution_count": 8,
   "metadata": {},
   "outputs": [],
   "source": [
    "import polars as pl\n",
    "from sklearn.feature_extraction import DictVectorizer\n",
    "from sklearn.linear_model import LinearRegression\n",
    "from sklearn.metrics import root_mean_squared_error\n",
    "from functions import read_dataframe\n"
   ]
  },
  {
   "cell_type": "markdown",
   "metadata": {},
   "source": [
    "## Q1. Downloading the data\n",
    "We'll use the same NYC taxi dataset, but instead of \"Green Taxi Trip Records\", we'll use \"Yellow Taxi Trip Records\".\n",
    "\n",
    "Download the data for January and February 2023.\n",
    "\n",
    "Read the data for January. How many columns are there?"
   ]
  },
  {
   "cell_type": "code",
   "execution_count": 2,
   "metadata": {},
   "outputs": [
    {
     "name": "stdout",
     "output_type": "stream",
     "text": [
      "There are 19 columns in the January data.\n"
     ]
    }
   ],
   "source": [
    "yellow_tripdata_2023_01 = pl.read_parquet(\"https://d37ci6vzurychx.cloudfront.net/trip-data/yellow_tripdata_2023-01.parquet\")\n",
    "yellow_tripdata_2023_02 = pl.read_parquet(\"https://d37ci6vzurychx.cloudfront.net/trip-data/yellow_tripdata_2023-02.parquet\")\n",
    "\n",
    "print(f\"There are {len(yellow_tripdata_2023_01.columns)} columns in the January data.\")"
   ]
  },
  {
   "cell_type": "markdown",
   "metadata": {},
   "source": [
    "## Q2. Computing duration\n",
    "Now let's compute the duration variable. It should contain the duration of a ride in minutes.\n",
    "\n",
    "What's the standard deviation of the trips duration in January?"
   ]
  },
  {
   "cell_type": "code",
   "execution_count": 3,
   "metadata": {},
   "outputs": [
    {
     "name": "stdout",
     "output_type": "stream",
     "text": [
      "The standard deviation of the trips duration in January is 42.59.\n"
     ]
    }
   ],
   "source": [
    "january_data_yellow = (\n",
    "        yellow_tripdata_2023_01\n",
    "        .with_columns(\n",
    "            (pl.col(\"tpep_dropoff_datetime\") - pl.col(\"tpep_pickup_datetime\"))\n",
    "            .dt.total_seconds()\n",
    "            .alias(\"duration\")\n",
    "        )\n",
    "        .with_columns(\n",
    "            (pl.col(\"duration\") / 60)\n",
    "            .alias(\"duration_minutes\")\n",
    "        ))\n",
    "\n",
    "std_dev_duration_january = january_data_yellow[\"duration_minutes\"].std()\n",
    "\n",
    "print(f\"The standard deviation of the trips duration in January is {std_dev_duration_january:.2f}.\")\n"
   ]
  },
  {
   "cell_type": "markdown",
   "metadata": {},
   "source": [
    "## Q3. Dropping outliers\n",
    "Next, we need to check the distribution of the duration variable. There are some outliers. Let's remove them and keep only the records where the duration was between 1 and 60 minutes (inclusive).\n",
    "\n",
    "What fraction of the records left after you dropped the outliers?"
   ]
  },
  {
   "cell_type": "code",
   "execution_count": 4,
   "metadata": {},
   "outputs": [
    {
     "name": "stdout",
     "output_type": "stream",
     "text": [
      "The fraction of the records left after dropping the outliers is 0.98.\n"
     ]
    }
   ],
   "source": [
    "january_data_yellow_filtered = (\n",
    "    january_data_yellow\n",
    "    .filter((pl.col(\"duration_minutes\") > 1) & (pl.col(\"duration_minutes\") <= 60))\n",
    "    )\n",
    "\n",
    "print(f\"The fraction of the records left after dropping the outliers is {len(january_data_yellow_filtered) / len(january_data_yellow):.2f}.\")\n"
   ]
  },
  {
   "cell_type": "markdown",
   "metadata": {},
   "source": [
    "## Q4. One-hot encoding\n",
    "Let's apply one-hot encoding to the pickup and dropoff location IDs. We'll use only these two features for our model.\n",
    "\n",
    "- Turn the dataframe into a list of dictionaries (remember to re-cast the ids to strings - otherwise it will label encode them)\n",
    "- Fit a dictionary vectorizer\n",
    "- Get a feature matrix from it\n",
    "\n",
    "What's the dimensionality of this matrix (number of columns)?"
   ]
  },
  {
   "cell_type": "code",
   "execution_count": 5,
   "metadata": {},
   "outputs": [
    {
     "name": "stdout",
     "output_type": "stream",
     "text": [
      "The dimensionality of the feature matrix is 515.\n"
     ]
    }
   ],
   "source": [
    "january_data_yellow_filtered = (\n",
    "    january_data_yellow_filtered\n",
    "    .with_columns(\n",
    "        pl.col([\"PULocationID\", \"DOLocationID\"]).cast(pl.Utf8)\n",
    "    )\n",
    ")\n",
    "\n",
    "dv = DictVectorizer()\n",
    "X_train = dv.fit_transform(january_data_yellow_filtered.select([\"PULocationID\", \"DOLocationID\"]).to_dicts())\n",
    "\n",
    "print(f\"The dimensionality of the feature matrix is {X_train.shape[1]}.\")"
   ]
  },
  {
   "cell_type": "markdown",
   "metadata": {},
   "source": [
    "## Q5. Training a model\n",
    "Now let's use the feature matrix from the previous step to train a model.\n",
    "\n",
    "- Train a plain linear regression model with default parameters, where duration is the response variable\n",
    "- Calculate the RMSE of the model on the training data\n",
    "\n",
    "What's the RMSE on train?"
   ]
  },
  {
   "cell_type": "code",
   "execution_count": 7,
   "metadata": {},
   "outputs": [
    {
     "name": "stdout",
     "output_type": "stream",
     "text": [
      "The RMSE on train is 7.65.\n"
     ]
    }
   ],
   "source": [
    "y_train = january_data_yellow_filtered[\"duration_minutes\"]\n",
    "\n",
    "model = LinearRegression()\n",
    "model.fit(X_train, y_train)\n",
    "\n",
    "y_pred = model.predict(X_train)\n",
    "\n",
    "rmse = root_mean_squared_error(y_train, y_pred)\n",
    "print(f\"The RMSE on train is {rmse:.2f}.\")"
   ]
  },
  {
   "cell_type": "markdown",
   "metadata": {},
   "source": [
    "## Q6. Evaluating the model\n",
    "Now let's apply this model to the validation dataset (February 2023).\n",
    "\n",
    "What's the RMSE on validation?"
   ]
  },
  {
   "cell_type": "code",
   "execution_count": 14,
   "metadata": {},
   "outputs": [
    {
     "name": "stdout",
     "output_type": "stream",
     "text": [
      "The RMSE on validation is 7.81.\n"
     ]
    }
   ],
   "source": [
    "# preparing the validation data\n",
    "february_data_yellow, df_val, categorical_features = read_dataframe(yellow_tripdata_2023_02, \n",
    "                                                                    pu_col = \"tpep_pickup_datetime\", \n",
    "                                                                    do_col = \"tpep_dropoff_datetime\")\n",
    "\n",
    "X_val = dv.transform(df_val.select([\"PULocationID\", \"DOLocationID\", \"trip_distance\"]).to_dicts())\n",
    "y_val = df_val[\"duration_minutes\"]\n",
    "\n",
    "# make predictions\n",
    "y_pred = model.predict(X_val)\n",
    "\n",
    "# calculate the RMSE\n",
    "rmse = root_mean_squared_error(y_val, y_pred)\n",
    "print(f\"The RMSE on validation is {rmse:.2f}.\")\n"
   ]
  }
 ],
 "metadata": {
  "kernelspec": {
   "display_name": "tsa_course",
   "language": "python",
   "name": "python3"
  },
  "language_info": {
   "codemirror_mode": {
    "name": "ipython",
    "version": 3
   },
   "file_extension": ".py",
   "mimetype": "text/x-python",
   "name": "python",
   "nbconvert_exporter": "python",
   "pygments_lexer": "ipython3",
   "version": "3.12.3"
  }
 },
 "nbformat": 4,
 "nbformat_minor": 2
}
