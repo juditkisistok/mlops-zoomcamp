{
 "cells": [
  {
   "cell_type": "code",
   "execution_count": 86,
   "metadata": {},
   "outputs": [
    {
     "data": {
      "text/plain": [
       "True"
      ]
     },
     "execution_count": 86,
     "metadata": {},
     "output_type": "execute_result"
    }
   ],
   "source": [
    "import pickle\n",
    "\n",
    "import polars as pl \n",
    "import numpy as np\n",
    "\n",
    "from sklearn.feature_extraction import DictVectorizer\n",
    "from sklearn.ensemble import RandomForestRegressor\n",
    "from sklearn.metrics import root_mean_squared_error\n",
    "\n",
    "from sklearn.pipeline import make_pipeline\n",
    "\n",
    "import os\n",
    "from dotenv import load_dotenv\n",
    "\n",
    "load_dotenv()"
   ]
  },
  {
   "cell_type": "code",
   "execution_count": 87,
   "metadata": {},
   "outputs": [],
   "source": [
    "import mlflow\n",
    "\n",
    "mlflow.set_tracking_uri(\"http://127.0.0.1:5000\")\n",
    "mlflow.set_experiment(\"green-taxi-experiment\")\n",
    "\n",
    "os.environ[\"AWS_ACCESS_KEY_ID\"] = os.getenv(\"AWS_ACCESS_KEY_ID\")\n",
    "os.environ[\"AWS_SECRET_ACCESS_KEY\"] = os.getenv(\"AWS_SECRET_ACCESS_KEY\")\n",
    "\n",
    "artifact_location = \"s3://mlops-bucket-orchestration/\""
   ]
  },
  {
   "cell_type": "code",
   "execution_count": 88,
   "metadata": {},
   "outputs": [],
   "source": [
    "def read_dataframe(filename: str) -> pl.DataFrame: \n",
    "    \"\"\"\n",
    "    Read a dataframe from a parquet file and return a dataframe with the duration of the trip in minutes.\n",
    "    \"\"\"\n",
    "    df = (\n",
    "        pl.read_parquet(filename)\n",
    "        .with_columns(\n",
    "            (pl.col(\"lpep_dropoff_datetime\") - pl.col(\"lpep_pickup_datetime\"))\n",
    "            .dt.total_seconds()\n",
    "            .alias(\"duration\")\n",
    "        )\n",
    "        .with_columns(\n",
    "            (pl.col(\"duration\") / 60)\n",
    "            .alias(\"duration_minutes\")\n",
    "        )\n",
    "        .with_columns(\n",
    "            pl.concat_str(pl.col(\"PULocationID\"), pl.lit(\"_\"), pl.col(\"DOLocationID\")).alias(\"PU_DO\")\n",
    "        )\n",
    "        .filter((pl.col(\"duration_minutes\") > 1) & (pl.col(\"duration_minutes\") <= 60))\n",
    "        .with_columns(pl.col([\"PULocationID\", \"DOLocationID\"]).cast(pl.Utf8))\n",
    "    )\n",
    "\n",
    "    return df\n",
    "\n",
    "def prepare_dictionaries(df: pl.DataFrame) -> tuple[np.ndarray, DictVectorizer]:\n",
    "    \"\"\"\n",
    "    Prepare the dictionaries for the model.\n",
    "    \"\"\"\n",
    "    return df.select([\"PU_DO\", \"trip_distance\"]).to_dicts()"
   ]
  },
  {
   "cell_type": "code",
   "execution_count": 89,
   "metadata": {},
   "outputs": [],
   "source": [
    "df_train = read_dataframe(\"https://d37ci6vzurychx.cloudfront.net/trip-data/green_tripdata_2021-01.parquet\")\n",
    "df_val = read_dataframe(\"https://d37ci6vzurychx.cloudfront.net/trip-data/green_tripdata_2021-02.parquet\")\n",
    "\n",
    "target = \"duration_minutes\"\n",
    "y_train = df_train[target]\n",
    "y_val = df_val[target]\n",
    "\n",
    "dict_train = prepare_dictionaries(df_train)\n",
    "dict_val = prepare_dictionaries(df_val)\n"
   ]
  },
  {
   "cell_type": "code",
   "execution_count": 90,
   "metadata": {},
   "outputs": [
    {
     "name": "stdout",
     "output_type": "stream",
     "text": [
      "RMSE: 6.754913985309662\n"
     ]
    },
    {
     "name": "stderr",
     "output_type": "stream",
     "text": [
      "2025/06/08 15:46:17 WARNING mlflow.models.model: Model logged without a signature and input example. Please set `input_example` parameter when logging the model to auto infer the model signature.\n"
     ]
    },
    {
     "name": "stdout",
     "output_type": "stream",
     "text": [
      "Model saved in run 3d2f54b35a4743b4af6ee34e3415c787\n",
      "🏃 View run melodic-squirrel-753 at: http://127.0.0.1:5000/#/experiments/992595661440936711/runs/3d2f54b35a4743b4af6ee34e3415c787\n",
      "🧪 View experiment at: http://127.0.0.1:5000/#/experiments/992595661440936711\n"
     ]
    }
   ],
   "source": [
    "with mlflow.start_run():\n",
    "    params = {\n",
    "        \"max_depth\": 20,\n",
    "        \"n_estimators\": 100,\n",
    "        \"min_samples_leaf\": 10,\n",
    "        \"random_state\": 0\n",
    "    }\n",
    "\n",
    "    mlflow.log_params(params)\n",
    "    \n",
    "    # we can use make_pipeline to create a pipeline with the DictVectorizer and the RandomForestRegressor\n",
    "    # so we don't need to store the DictVectorizer separately\n",
    "    pipeline = make_pipeline(\n",
    "        DictVectorizer(),\n",
    "        RandomForestRegressor(**params, n_jobs=-1)\n",
    "    )\n",
    "    \n",
    "    pipeline.fit(dict_train, y_train)\n",
    "    y_pred = pipeline.predict(dict_val)\n",
    "\n",
    "    rmse = root_mean_squared_error(y_val, y_pred)\n",
    "    print(f\"RMSE: {rmse}\")\n",
    "    \n",
    "    mlflow.log_metric(\"rmse\", rmse)\n",
    "\n",
    "    # save the DictVectorizer\n",
    "    # dv = pipeline.steps[0][1]\n",
    "    # with open(\"models/dict_vectorizer.bin\", \"wb\") as f_out:\n",
    "    #     pickle.dump(dv, f_out)\n",
    "\n",
    "    # mlflow.log_artifact(local_path=\"models/dict_vectorizer.bin\", artifact_path=\"model\")\n",
    "    \n",
    "    mlflow.sklearn.log_model(pipeline, artifact_path=\"model\")\n",
    "    \n",
    "    print(f\"Model saved in run {mlflow.active_run().info.run_id}\")\n",
    "    "
   ]
  },
  {
   "cell_type": "code",
   "execution_count": 91,
   "metadata": {},
   "outputs": [
    {
     "data": {
      "text/plain": [
       "18.078530539860687"
      ]
     },
     "execution_count": 91,
     "metadata": {},
     "output_type": "execute_result"
    }
   ],
   "source": [
    "pipeline.predict(dict_val)[0]"
   ]
  }
 ],
 "metadata": {
  "kernelspec": {
   "display_name": "tsa_course",
   "language": "python",
   "name": "python3"
  },
  "language_info": {
   "codemirror_mode": {
    "name": "ipython",
    "version": 3
   },
   "file_extension": ".py",
   "mimetype": "text/x-python",
   "name": "python",
   "nbconvert_exporter": "python",
   "pygments_lexer": "ipython3",
   "version": "3.12.3"
  }
 },
 "nbformat": 4,
 "nbformat_minor": 2
}
