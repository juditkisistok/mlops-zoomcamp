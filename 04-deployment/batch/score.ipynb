{
 "cells": [
  {
   "cell_type": "code",
   "execution_count": 6,
   "metadata": {},
   "outputs": [
    {
     "data": {
      "text/plain": [
       "True"
      ]
     },
     "execution_count": 6,
     "metadata": {},
     "output_type": "execute_result"
    }
   ],
   "source": [
    "import polars as pl \n",
    "import numpy as np\n",
    "\n",
    "from sklearn.feature_extraction import DictVectorizer\n",
    "\n",
    "import os\n",
    "from dotenv import load_dotenv\n",
    "import uuid\n",
    "import mlflow\n",
    "\n",
    "load_dotenv()"
   ]
  },
  {
   "cell_type": "code",
   "execution_count": 7,
   "metadata": {},
   "outputs": [],
   "source": [
    "year = 2021\n",
    "month = 3\n",
    "taxi_type = \"green\" \n",
    "\n",
    "input_file = f\"https://d37ci6vzurychx.cloudfront.net/trip-data/{taxi_type}_tripdata_{year:04d}-{month:02d}.parquet\"\n",
    "output_file = f\"output/{taxi_type}/{year:04d}-{month:02d}.parquet\"\n",
    "\n",
    "os.environ[\"AWS_ACCESS_KEY_ID\"] = os.getenv(\"AWS_ACCESS_KEY_ID\")\n",
    "os.environ[\"AWS_SECRET_ACCESS_KEY\"] = os.getenv(\"AWS_SECRET_ACCESS_KEY\")\n",
    "\n",
    "RUN_ID = os.getenv(\"RUN_ID\", \"3d2f54b35a4743b4af6ee34e3415c787\")"
   ]
  },
  {
   "cell_type": "code",
   "execution_count": 8,
   "metadata": {},
   "outputs": [],
   "source": [
    "def generate_uuids(df: pl.DataFrame) -> pl.DataFrame:\n",
    "    # we need to generate a unique ID for the input file\n",
    "    # normally, we would have a unique ID, but here we just generate a random one\n",
    "    ride_ids = [str(uuid.uuid4()) for _ in range(len(df))]\n",
    "\n",
    "    return df.with_columns(pl.Series(name=\"ride_id\", values=ride_ids))\n",
    "\n",
    "def load_model(run_id: str) -> mlflow.pyfunc.PyFuncModel:\n",
    "    return mlflow.pyfunc.load_model(f\"s3://mlops-bucket-orchestration/992595661440936711/{run_id}/artifacts/model\")\n",
    "\n",
    "def read_dataframe(filename: str) -> pl.DataFrame: \n",
    "    \"\"\"\n",
    "    Read a dataframe from a parquet file and return a dataframe with the duration of the trip in minutes.\n",
    "    \"\"\"\n",
    "    df = (\n",
    "        pl.read_parquet(filename)\n",
    "        .with_columns(\n",
    "            (pl.col(\"lpep_dropoff_datetime\") - pl.col(\"lpep_pickup_datetime\"))\n",
    "            .dt.total_seconds()\n",
    "            .alias(\"duration\")\n",
    "        )\n",
    "        .with_columns(\n",
    "            (pl.col(\"duration\") / 60)\n",
    "            .alias(\"duration_minutes\")\n",
    "        )\n",
    "        .with_columns(\n",
    "            pl.concat_str(pl.col(\"PULocationID\"), pl.lit(\"_\"), pl.col(\"DOLocationID\")).alias(\"PU_DO\")\n",
    "        )\n",
    "        .filter((pl.col(\"duration_minutes\") > 1) & (pl.col(\"duration_minutes\") <= 60))\n",
    "        .with_columns(pl.col([\"PULocationID\", \"DOLocationID\"]).cast(pl.Utf8))\n",
    "    )\n",
    "\n",
    "    return generate_uuids(df)\n",
    "\n",
    "def prepare_dictionaries(df: pl.DataFrame) -> tuple[np.ndarray, DictVectorizer]:\n",
    "    \"\"\"\n",
    "    Prepare the dictionaries for the model.\n",
    "    \"\"\"\n",
    "    return df.select([\"PU_DO\", \"trip_distance\"]).to_dicts()\n",
    "\n",
    "def apply_model(input_file: str, run_id: str, output_file: str) -> None:\n",
    "    df = read_dataframe(input_file)\n",
    "    dicts = prepare_dictionaries(df)\n",
    "    model = load_model(run_id)\n",
    "    y_pred = model.predict(dicts)\n",
    "\n",
    "    df_result = pl.DataFrame({\n",
    "    \"ride\": df.select(\"ride_id\").to_series(),\n",
    "    \"lpep_pickup_datetime\": df.select(\"lpep_pickup_datetime\").to_series(),\n",
    "    \"PULocationID\": df.select(\"PULocationID\").to_series(),\n",
    "    \"DOLocationID\": df.select(\"DOLocationID\").to_series(),\n",
    "    \"actual_duration\": df.select(\"duration_minutes\").to_series(),\n",
    "    \"predicted_duration\": y_pred,\n",
    "    \"difference\": df.select(\"duration_minutes\").to_series() - y_pred,\n",
    "    \"model_version\": run_id\n",
    "})\n",
    "    df_result.write_parquet(output_file)\n"
   ]
  },
  {
   "cell_type": "code",
   "execution_count": 9,
   "metadata": {},
   "outputs": [
    {
     "data": {
      "application/vnd.jupyter.widget-view+json": {
       "model_id": "bbdae7d4524f4d3b944c7dd3ee0c652e",
       "version_major": 2,
       "version_minor": 0
      },
      "text/plain": [
       "Downloading artifacts:   0%|          | 0/5 [00:00<?, ?it/s]"
      ]
     },
     "metadata": {},
     "output_type": "display_data"
    }
   ],
   "source": [
    "apply_model(input_file, RUN_ID, output_file)"
   ]
  },
  {
   "cell_type": "code",
   "execution_count": null,
   "metadata": {},
   "outputs": [],
   "source": []
  }
 ],
 "metadata": {
  "kernelspec": {
   "display_name": "tsa_course",
   "language": "python",
   "name": "python3"
  },
  "language_info": {
   "codemirror_mode": {
    "name": "ipython",
    "version": 3
   },
   "file_extension": ".py",
   "mimetype": "text/x-python",
   "name": "python",
   "nbconvert_exporter": "python",
   "pygments_lexer": "ipython3",
   "version": "3.12.3"
  }
 },
 "nbformat": 4,
 "nbformat_minor": 2
}
